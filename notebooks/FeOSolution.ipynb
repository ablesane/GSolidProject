{
 "cells": [
  {
   "cell_type": "markdown",
   "metadata": {},
   "source": [
    "## Iron Oxide Solution (FeO)"
   ]
  },
  {
   "cell_type": "code",
   "execution_count": 1,
   "metadata": {},
   "outputs": [],
   "source": [
    "#Data Visualization\n",
    "%matplotlib inline\n",
    "import matplotlib as mpl\n",
    "import matplotlib.pyplot as plt\n",
    "from matplotlib.path import Path\n",
    "import matplotlib.patches as patches\n",
    "\n",
    "#Data Conversion\n",
    "from IPython.display import HTML, SVG\n",
    "import numpy as np\n",
    "from svgpath2mpl import parse_path\n",
    "from operator import itemgetter\n",
    "import json\n",
    "\n",
    "#Solving Equations\n",
    "from sympy import Eq, Symbol, solve"
   ]
  },
  {
   "cell_type": "code",
   "execution_count": 2,
   "metadata": {},
   "outputs": [
    {
     "data": {
      "text/plain": [
       "{'temp': [0.8, 1600.0],\n",
       " 'arity': 2,\n",
       " 'entry': 'C103304',\n",
       " 'naxes': 2,\n",
       " 'labels': [['L', [0.1875714830346931, 1513.6772427774963], None],\n",
       "  ['(Fe) rt', [0.0360022874571231, 131.2811028889423], 4402],\n",
       "  ['(Fe) rt', [0.02321768966831872, 1360.4847440446022], 4402],\n",
       "  ['(Fe) ht', [0.0360022874571231, 853.7863699948724], 12],\n",
       "  ['L<sub>1</sub> + L<sub>2</sub>',\n",
       "   [0.4405642394205109, 1511.245615813482],\n",
       "   None],\n",
       "  ['(Fe) rt + Fe<sub>0.92</sub>O ht',\n",
       "   [0.27701105604269916, 211.94627470856562],\n",
       "   5342],\n",
       "  ['(Fe) ht + Fe<sub>0.92</sub>O ht',\n",
       "   [0.27701105604269916, 828.7689812468323],\n",
       "   5342],\n",
       "  ['(Fe) ht + L<sub>2</sub>', [0.27701105604269916, 1139.2066903193108], 12],\n",
       "  ['(Fe) rt + L<sub>2</sub>', [0.27701105604269916, 1383.990471363406], 4402]],\n",
       " 'shapes': [{'kind': 'phase',\n",
       "   'label': 'L',\n",
       "   'nphases': 1,\n",
       "   'svgpath': 'M 0.000228746,1495.02 L 0.018839,1493.72 L 0.0376389,1492.34 L 0.0376391,1492.34 L 0.0564025,1490.89 L 0.0564027,1490.89 L 0.0751282,1489.38 L 0.0751285,1489.38 L 0.0938146,1487.8 L 0.0938149,1487.8 L 0.11246,1486.14 L 0.11246,1486.14 L 0.131063,1484.41 L 0.131063,1484.41 L 0.149622,1482.6 L 0.149622,1482.6 L 0.168136,1480.7 L 0.168136,1480.7 L 0.186602,1478.72 L 0.186602,1478.72 L 0.20502,1476.65 L 0.20502,1476.65 L 0.223388,1474.49 L 0.223388,1474.49 L 0.241704,1472.23 L 0.241704,1472.23 L 0.259967,1469.88 L 0.259967,1469.88 L 0.278175,1467.43 L 0.278175,1467.43 L 0.296326,1464.87 L 0.296327,1464.87 L 0.314309,1462.22 L 0.316949,1473.29 L 0.31696,1473.33 L 0.319968,1484.28 L 0.319979,1484.32 L 0.323282,1494.85 L 0.323292,1494.88 L 0.326886,1504.99 L 0.326896,1505.02 L 0.330777,1514.72 L 0.330787,1514.74 L 0.334954,1524.04 L 0.334963,1524.06 L 0.339412,1532.95 L 0.339421,1532.96 L 0.34415,1541.46 L 0.344158,1541.47 L 0.349163,1549.57 L 0.349171,1549.58 L 0.354451,1557.29 L 0.354458,1557.3 L 0.360009,1564.63 L 0.360016,1564.64 L 0.365835,1571.58 L 0.365841,1571.59 L 0.371926,1578.16 L 0.371932,1578.17 L 0.378279,1584.37 L 0.378285,1584.37 L 0.384893,1590.2 L 0.384898,1590.21 L 0.391763,1595.68 L 0.391768,1595.68 L 0.396645,1599.18 L 0.000228746,1598.38 L 0.000228746,1495.02',\n",
       "   'is_solid': False},\n",
       "  {'kind': 'phase',\n",
       "   'label': '(Fe) rt',\n",
       "   'phase': 'Fe/229/cI2',\n",
       "   'nphases': 1,\n",
       "   'svgpath': 'M 0.000228746,1493.37 L 0.000228746,1311.43 L 0.15056,1301.33 L 0.151499,1316.46 L 0.151502,1316.5 L 0.152658,1331.27 L 0.152662,1331.32 L 0.15399,1345.12 L 0.153995,1345.16 L 0.15549,1358.04 L 0.155496,1358.08 L 0.157153,1370.08 L 0.15716,1370.13 L 0.158974,1381.28 L 0.158982,1381.33 L 0.160946,1391.7 L 0.160955,1391.75 L 0.163065,1401.37 L 0.163075,1401.41 L 0.165326,1410.34 L 0.165336,1410.38 L 0.167721,1418.64 L 0.167732,1418.68 L 0.170247,1426.34 L 0.170258,1426.37 L 0.172898,1433.46 L 0.172908,1433.49 L 0.175667,1440.07 L 0.175677,1440.09 L 0.17855,1446.19 L 0.178559,1446.21 L 0.18154,1451.88 L 0.181549,1451.89 L 0.184633,1457.18 L 0.184641,1457.19 L 0.186933,1460.76 L 0.000228746,1493.37',\n",
       "   'is_solid': True,\n",
       "   'phase_id': 4402,\n",
       "   'reflabel': 2,\n",
       "   'chemical_elements': ['Fe'],\n",
       "   'reference': {'phase': 'https://mpds.io/phase/Fe/229/cI2'}},\n",
       "  {'kind': 'phase',\n",
       "   'label': '(Fe) ht',\n",
       "   'phase': 'Fe,Ni/225/cF4',\n",
       "   'nphases': 1,\n",
       "   'svgpath': 'M 0.000228746,1309.81 L 0.000228746,583.121 L 0.0908566,560.932 L 0.131305,1265.81 L 0.131307,1265.84 L 0.133641,1299.72 L 0.000228746,1309.81',\n",
       "   'is_solid': True,\n",
       "   'phase_id': 12,\n",
       "   'reflabel': 3,\n",
       "   'chemical_elements': ['Fe'],\n",
       "   'reference': {'phase': 'https://mpds.io/phase/Fe,Ni/225/cF4'}},\n",
       "  {'kind': 'phase',\n",
       "   'label': '(Fe) rt',\n",
       "   'phase': 'Fe/229/cI2',\n",
       "   'nphases': 1,\n",
       "   'svgpath': 'M 0.000228746,581.483 L 0.000228746,1.61054 L 0.0676042,1.61054 L 0.0745616,559.332 L 0.000228746,581.483',\n",
       "   'is_solid': True,\n",
       "   'phase_id': 4402,\n",
       "   'reflabel': 1,\n",
       "   'chemical_elements': ['Fe'],\n",
       "   'reference': {'phase': 'https://mpds.io/phase/Fe/229/cI2'}},\n",
       "  {'kind': 'phase',\n",
       "   'nphases': 2,\n",
       "   'svgpath': 'M 0.200217,1600 L 0,1600 L 0,1599.59 L 0.200217,1600',\n",
       "   'is_solid': True},\n",
       "  {'kind': 'phase',\n",
       "   'nphases': 2,\n",
       "   'svgpath': 'M 0.6,1461.6 L 0.6,1600 L 0.398347,1600 L 0.39837,1599.19 L 0.391837,1594.49 L 0.391836,1594.49 L 0.384975,1589.02 L 0.384974,1589.02 L 0.37837,1583.19 L 0.378369,1583.19 L 0.372025,1577 L 0.372024,1577 L 0.365943,1570.43 L 0.365942,1570.43 L 0.360128,1563.49 L 0.360126,1563.49 L 0.354581,1556.17 L 0.354579,1556.17 L 0.349305,1548.46 L 0.349303,1548.46 L 0.344304,1540.37 L 0.344302,1540.37 L 0.33958,1531.89 L 0.339577,1531.88 L 0.335135,1523 L 0.335133,1523 L 0.330974,1513.72 L 0.330971,1513.72 L 0.327098,1504.03 L 0.327095,1504.03 L 0.32351,1493.94 L 0.323507,1493.93 L 0.320213,1483.43 L 0.32021,1483.42 L 0.31721,1472.5 L 0.317207,1472.49 L 0.314675,1461.88 L 0.6,1461.6',\n",
       "   'is_solid': True},\n",
       "  {'kind': 'phase',\n",
       "   'nphases': 2,\n",
       "   'svgpath': 'M 0.30835,1461.88 L 0.296313,1463.66 L 0.278161,1466.21 L 0.259954,1468.67 L 0.241691,1471.02 L 0.223376,1473.28 L 0.205009,1475.44 L 0.186591,1477.51 L 0.168125,1479.49 L 0.149612,1481.38 L 0.131054,1483.2 L 0.112451,1484.93 L 0.0938062,1486.58 L 0.0751202,1488.17 L 0.0563948,1489.68 L 0.0376316,1491.12 L 0.018832,1492.5 L 0.00774324,1493.28 L 0.186782,1462 L 0.186776,1462 L 0.30835,1461.88',\n",
       "   'is_solid': True},\n",
       "  {'kind': 'phase',\n",
       "   'nphases': 2,\n",
       "   'svgpath': 'M 0.6,1300.71 L 0.6,1461.2 L 0.314645,1461.75 L 0.314462,1460.98 L 0.309173,1461.76 L 0.186782,1462 L 0.188405,1461.72 L 0.184781,1456.08 L 0.184779,1456.08 L 0.181701,1450.81 L 0.181699,1450.8 L 0.178725,1445.14 L 0.178722,1445.14 L 0.175857,1439.05 L 0.175855,1439.05 L 0.173104,1432.49 L 0.173101,1432.49 L 0.17047,1425.41 L 0.170467,1425.41 L 0.16796,1417.77 L 0.167957,1417.76 L 0.16558,1409.52 L 0.165578,1409.51 L 0.163335,1400.62 L 0.163333,1400.61 L 0.16123,1391.02 L 0.161228,1391.01 L 0.15927,1380.67 L 0.159268,1380.66 L 0.157461,1369.54 L 0.157459,1369.53 L 0.155807,1357.57 L 0.155805,1357.56 L 0.154314,1344.72 L 0.154313,1344.71 L 0.152988,1330.94 L 0.152987,1330.93 L 0.151833,1316.2 L 0.151833,1316.19 L 0.15089,1300.99 L 0.6,1300.71',\n",
       "   'is_solid': True},\n",
       "  {'kind': 'phase',\n",
       "   'nphases': 2,\n",
       "   'svgpath': 'M 0.137439,1300.99 L 0.0960852,1303.77 L 0.132789,1301 L 0.137439,1300.99',\n",
       "   'is_solid': True},\n",
       "  {'kind': 'phase',\n",
       "   'nphases': 2,\n",
       "   'svgpath': 'M 0.6,1265.85 L 0.6,1300.3 L 0.150889,1300.97 L 0.150835,1300.09 L 0.137503,1300.99 L 0.132791,1301 L 0.134076,1300.9 L 0.13166,1265.85 L 0.6,1265.85',\n",
       "   'is_solid': True},\n",
       "  {'kind': 'phase',\n",
       "   'nphases': 2,\n",
       "   'svgpath': 'M 0.0679376,0.8 L 0.6,0.8 L 0.6,559.874 L 0.0911982,560.784 L 0.0911329,559.645 L 0.0864489,560.792 L 0.0736785,560.815 L 0.074919,560.445 L 0.0679376,0.8',\n",
       "   'is_solid': True},\n",
       "  {'kind': 'phase',\n",
       "   'nphases': 2,\n",
       "   'svgpath': 'M 0.6,560.278 L 0.6,1265.45 L 0.131634,1265.45 L 0.0911991,560.8 L 0.6,560.278',\n",
       "   'is_solid': True},\n",
       "  {'kind': 'phase',\n",
       "   'nphases': 2,\n",
       "   'svgpath': 'M 0.0863973,560.805 L 0.0152924,578.214 L 0.073669,560.818 L 0.0863973,560.805',\n",
       "   'is_solid': True}],\n",
       " 'diatype': 'binary',\n",
       " 'title_a': 'Fe',\n",
       " 'title_b': 'O',\n",
       " 'comp_end': {'O': 1, 'Fe': 0},\n",
       " 'comp_range': [0.0, 0.6],\n",
       " 'comp_start': {'O': 0, 'Fe': 1},\n",
       " 'chemical_elements': ['Fe', 'O'],\n",
       " 'object_repr': 'C-A270946',\n",
       " '$schema': 'https://developer.mpds.io/mpds.schema.json#/definitions/phase_diagram',\n",
       " 'version': '1.2.0',\n",
       " 'object_type': 'C',\n",
       " 'use_visavis_type': 'pd',\n",
       " 'reference': {'entry': 'https://mpds.io/entry/C103304'}}"
      ]
     },
     "execution_count": 2,
     "metadata": {},
     "output_type": "execute_result"
    }
   ],
   "source": [
    "#Pulling in Fe-O system data, json downloaded manually from MPDS\n",
    "\n",
    "f = open('\\data\\Fe-O\\FeO_v2.json')\n",
    "data = json.load(f)\n",
    "\n",
    "data"
   ]
  },
  {
   "cell_type": "markdown",
   "metadata": {},
   "source": [
    "The function below uses the specified material system to extract solidus curves into matplotlib compatible path. Accepts phase diagram data in JSON format. Function uses the same error handling developed for the extract_MPDS_liquidus function."
   ]
  },
  {
   "cell_type": "code",
   "execution_count": 3,
   "metadata": {},
   "outputs": [],
   "source": [
    "def extract_MPDS_Solidus(MPDS_json, verbose=True):\n",
    "    if MPDS_json['reference'] is None:\n",
    "        if verbose:\n",
    "            print(\"system JSON does not contain any data!\\n\")\n",
    "        return None\n",
    "\n",
    "    components = MPDS_json['chemical_elements']\n",
    "    if verbose:\n",
    "        print(\"reading MPDS solidus from entry at \" + MPDS_json['reference']['entry'] + \"...\\n\")\n",
    "    \n",
    "    # extract solidus curve svgpath from system JSON\n",
    "    curves = \"\"\n",
    "    for boundary in MPDS_json['shapes']:\n",
    "        if 'label' in boundary and boundary['label'] != 'L':\n",
    "            curves = curves + boundary['svgpath']\n",
    "            continue\n",
    "    if not data:\n",
    "        if verbose:\n",
    "            print(\"no solidus data found in JSON!\")\n",
    "        return None\n",
    "    \n",
    "    path = parse_path(curves)\n",
    "\n",
    "    \n",
    "    # return matplotlib path\n",
    "    return path, path.vertices, path.codes\n"
   ]
  },
  {
   "cell_type": "code",
   "execution_count": 4,
   "metadata": {},
   "outputs": [
    {
     "name": "stdout",
     "output_type": "stream",
     "text": [
      "reading MPDS solidus from entry at https://mpds.io/entry/C103304...\n",
      "\n"
     ]
    }
   ],
   "source": [
    "FeOpath, vert, b_code= extract_MPDS_Solidus(data, verbose=True)"
   ]
  },
  {
   "cell_type": "code",
   "execution_count": 5,
   "metadata": {},
   "outputs": [
    {
     "data": {
      "text/plain": [
       "array([1, 2, 2, 2, 2, 2, 2, 2, 2, 2, 2, 2, 2, 2, 2, 2, 2, 2, 2, 2, 2, 2,\n",
       "       2, 2, 2, 2, 2, 2, 2, 2, 2, 2, 2, 2, 2, 2, 2, 1, 2, 2, 2, 2, 2, 2,\n",
       "       1, 2, 2, 2], dtype=uint8)"
      ]
     },
     "execution_count": 5,
     "metadata": {},
     "output_type": "execute_result"
    }
   ],
   "source": [
    "b_code[0:-1]"
   ]
  },
  {
   "cell_type": "code",
   "execution_count": 6,
   "metadata": {},
   "outputs": [
    {
     "data": {
      "image/png": "[encoded data removed]",
      "text/plain": [
       "<Figure size 640x480 with 1 Axes>"
      ]
     },
     "metadata": {},
     "output_type": "display_data"
    }
   ],
   "source": [
    "#Using Matplotlib patches to plot Fe-O system diagram\n",
    "\n",
    "fig = plt.figure()\n",
    "ax = fig.add_subplot(111)\n",
    "patch = patches.PathPatch(FeOpath)\n",
    "ax.add_patch(patch)\n",
    "ax.set_ylim(data['temp'][0],data['temp'][1])\n",
    "ax.set_xlim(data['comp_range'][0],data['comp_range'][1])\n",
    "plt.show()"
   ]
  },
  {
   "cell_type": "markdown",
   "metadata": {},
   "source": [
    "#### Data Cleaning\n",
    "\n",
    "Temperature axis appears to be off scale. Temperature values in the JSON file do not reflect the values represented in the official version of the phase diagram. Will correct for this through linear transformation of the data."
   ]
  },
  {
   "cell_type": "code",
   "execution_count": 7,
   "metadata": {},
   "outputs": [],
   "source": [
    "new_vert= [[float(i[0]) *1, (float(i[1])/1.45)+ 500] for i in vert]\n",
    "new_path = Path(new_vert,b_code)"
   ]
  },
  {
   "cell_type": "code",
   "execution_count": 8,
   "metadata": {},
   "outputs": [
    {
     "data": {
      "image/png": "[encoded data removed]",
      "text/plain": [
       "<Figure size 640x480 with 1 Axes>"
      ]
     },
     "metadata": {},
     "output_type": "display_data"
    }
   ],
   "source": [
    "fig = plt.figure()\n",
    "ax = fig.add_subplot(111)\n",
    "patch = patches.PathPatch(new_path)\n",
    "ax.add_patch(patch)\n",
    "ax.set_ylim(500,1600)\n",
    "ax.set_xlim(data['comp_range'][0],data['comp_range'][1])\n",
    "plt.show()"
   ]
  },
  {
   "cell_type": "markdown",
   "metadata": {},
   "source": [
    "#### Calculating Solubility Limit\n",
    "\n",
    "The function below pulls the temperature and fractional composition at the rightmost point of each phase. Solubility limits of each phase will be assumed at these boundaries. It is worth exploring more advanced methods of calculating the solubility limit through a series of equations to generate a gibbs free energy vs. fractional coposition diagram."
   ]
  },
  {
   "cell_type": "code",
   "execution_count": 9,
   "metadata": {},
   "outputs": [],
   "source": [
    "def extract_solubility_limit(path):\n",
    "    # convert to coordinates in fractional composition, kelvin\n",
    "    vertices = [[float(i[0])/100 , float(i[1])+273.15] for i in path._vertices]\n",
    "    codes = path._codes\n",
    "\n",
    "    sections=[]\n",
    "    ind = 0\n",
    "    solubility_limits = []\n",
    "\n",
    "    for i in range(0,len(vertices)-1):\n",
    "        if (codes[i+1] == 1 or None):\n",
    "            b = i + 1\n",
    "            sections.append(vertices[ind:b])\n",
    "            ind = b\n",
    "        else: \n",
    "            continue\n",
    "\n",
    "    sections.append(vertices[ind:])\n",
    "\n",
    "    \n",
    "    for section in sections:\n",
    "        # Sort by X (descending), determinding the rightmost point of the given svgpath\n",
    "        sorted_coordinates= sorted(section, key=lambda c: ( -c[0]))\n",
    "        solubility_limits.append(sorted_coordinates[0])\n",
    "\n",
    "    return solubility_limits\n"
   ]
  },
  {
   "cell_type": "code",
   "execution_count": 10,
   "metadata": {},
   "outputs": [
    {
     "data": {
      "text/plain": [
       "[[0.0018693299999999998, 1780.5706896551724],\n",
       " [0.0013364100000000001, 1669.5086206896553],\n",
       " [0.000745616, 1158.8962068965516]]"
      ]
     },
     "execution_count": 10,
     "metadata": {},
     "output_type": "execute_result"
    }
   ],
   "source": [
    "extract_solubility_limit(new_path)"
   ]
  },
  {
   "cell_type": "markdown",
   "metadata": {},
   "source": [
    " 1807.63 K is the transition temperature from Fe(BCC) to liquid , 1649.705 K is the transition temperature from Fe(FCC) to Fe(BCC), and 1172.24 K is the transition temperature from Fe(BCC) to Fe(FCC)"
   ]
  },
  {
   "cell_type": "code",
   "execution_count": 11,
   "metadata": {},
   "outputs": [],
   "source": [
    "#Formation energy is stored in units of eV/atom in Materials Project, creating conversion function to put in correct units.\n",
    "\n",
    "def convert_formation_energy(eV_atom):\n",
    "    J_mol= eV_atom*(1.6*10**-19)*(6.02*10**23)\n",
    "\n",
    "    return J_mol\n"
   ]
  },
  {
   "cell_type": "code",
   "execution_count": 12,
   "metadata": {},
   "outputs": [],
   "source": [
    "def calculate_gibbs_free_energy(Tm,molEntr,T,transEnth):\n",
    "    #Tm is the phase transition temperature (units:  Kelvin)\n",
    "    # molEntr is Molar Entropy (units: J/mol/K)\n",
    "    # T is Temperature (units: Kelvin)\n",
    "    #transEnth is transition enthalpy (units: J/mol)\n",
    "\n",
    "    \n",
    "    deltaS = transEnth/Tm\n",
    "    G_CS1 = (-T)*(molEntr)\n",
    "    deltaG = transEnth -(T*deltaS)\n",
    "    G_CS2 = G_CS1 + deltaG\n",
    "\n",
    "    return G_CS2"
   ]
  },
  {
   "cell_type": "code",
   "execution_count": 13,
   "metadata": {},
   "outputs": [],
   "source": [
    "def solve_mixing_enthalpy(G, x, y, T, formEng, R=8.314):\n",
    "    # G is Gibbs Free Energy (units: J/mol)\n",
    "    # x is solubility limit (units:fractional composition)\n",
    "    # y is the composition of competing oxide (units:fractional composition)\n",
    "    # T is observed temperature (units: Kelvin)\n",
    "    # formEng is Formation energy (units: J/mol)\n",
    "    # R is ideal gas constant (units: J/mol_K)\n",
    "\n",
    "    w = Symbol('w')\n",
    "\n",
    "    eqn = (G + w*x*(1-x)+R*T*(x*np.log(x)+(1-x)*np.log(1-x))) + (y-x) *(w-2*w*x+R*T*(np.log(x)-np.log(1-x))) - formEng\n",
    "\n",
    "    return solve(eqn)\n",
    "    \n"
   ]
  },
  {
   "cell_type": "code",
   "execution_count": 14,
   "metadata": {},
   "outputs": [
    {
     "data": {
      "text/plain": [
       "[-199153.910612293]"
      ]
     },
     "execution_count": 14,
     "metadata": {},
     "output_type": "execute_result"
    }
   ],
   "source": [
    "#Solving Fe-O Exam Problem from MSE 532 - A check to see if functions calculate correctly\n",
    "\n",
    "G_FCC_init  = calculate_gibbs_free_energy(900, 27, 1373,1000)\n",
    "\n",
    "solve_mixing_enthalpy(G_FCC_init, 0.003, 0.521, 1373, -175300)"
   ]
  },
  {
   "cell_type": "code",
   "execution_count": 15,
   "metadata": {},
   "outputs": [
    {
     "data": {
      "text/plain": [
       "-158253.76"
      ]
     },
     "execution_count": 15,
     "metadata": {},
     "output_type": "execute_result"
    }
   ],
   "source": [
    "#From Materials Project mp-18905 FeO system, predicted formation energy\n",
    "convert_formation_energy(-1.643)"
   ]
  },
  {
   "cell_type": "markdown",
   "metadata": {},
   "source": [
    "- Enthalpy change for Fe(BCC) to Fe(FCC) is not available on MPDS\n",
    "- Molar entropy  of Fe: https://mpds.io/#inquiry/elements=Fe&classes=unary&props=entropy\n"
   ]
  },
  {
   "cell_type": "code",
   "execution_count": 16,
   "metadata": {},
   "outputs": [
    {
     "data": {
      "text/plain": [
       "[-242102.648764969]"
      ]
     },
     "execution_count": 16,
     "metadata": {},
     "output_type": "execute_result"
    }
   ],
   "source": [
    "# deltaG (Fe_BCC -> Fe_FCC) at 0 degrees K\n",
    "\n",
    "G_FCC  = calculate_gibbs_free_energy(1172.2424999999998, 27.3, 1373,1000)\n",
    "\n",
    "solve_mixing_enthalpy(G_FCC, 0.0018693299999999998, 0.5, 0, -158253.76)"
   ]
  }
 ],
 "metadata": {
  "kernelspec": {
   "display_name": "matprojenv",
   "language": "python",
   "name": "python3"
  },
  "language_info": {
   "codemirror_mode": {
    "name": "ipython",
    "version": 3
   },
   "file_extension": ".py",
   "mimetype": "text/x-python",
   "name": "python",
   "nbconvert_exporter": "python",
   "pygments_lexer": "ipython3",
   "version": "3.9.18"
  }
 },
 "nbformat": 4,
 "nbformat_minor": 2
}
