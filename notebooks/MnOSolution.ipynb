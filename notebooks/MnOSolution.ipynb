{
 "cells": [
  {
   "cell_type": "markdown",
   "metadata": {},
   "source": [
    "## Manganese Oxide Solution (MnO)"
   ]
  },
  {
   "cell_type": "code",
   "execution_count": 1,
   "metadata": {},
   "outputs": [],
   "source": [
    "#Data Visualization\n",
    "%matplotlib inline\n",
    "import matplotlib as mpl\n",
    "import matplotlib.pyplot as plt\n",
    "from matplotlib.path import Path\n",
    "import matplotlib.patches as patches\n",
    "\n",
    "#Data Conversion\n",
    "from IPython.display import HTML, SVG\n",
    "import numpy as np\n",
    "from svgpath2mpl import parse_path\n",
    "from operator import itemgetter\n",
    "import json\n",
    "\n",
    "#Solving Equations\n",
    "from sympy import Eq, Symbol, solve"
   ]
  },
  {
   "cell_type": "code",
   "execution_count": 2,
   "metadata": {},
   "outputs": [
    {
     "data": {
      "text/plain": [
       "{'temp': [1000.0, 2100.0],\n",
       " 'arity': 2,\n",
       " 'entry': 'C903466',\n",
       " 'naxes': 2,\n",
       " 'labels': [['L', [0.3621807091117042, 1838.5200202736949], None],\n",
       "  ['L', [49.752192146397256, 1874.4804865686772], None],\n",
       "  ['G', [93.99542508577964, 1952.5342118601116], None],\n",
       "  ['Mn<sub>3</sub>O<sub>4</sub> ht',\n",
       "   [55.409607319864904, 1276.4746578813586],\n",
       "   7126],\n",
       "  ['Mn<sub>3</sub>O<sub>4</sub> rt',\n",
       "   [55.793995425087914, 1010.2863659401519],\n",
       "   7127],\n",
       "  ['MnO rt', [52.05985512771849, 1515.313482007055], 7128],\n",
       "  ['(Mn) ht4', [4.342546702249331, 1214.5434870755196], 5337],\n",
       "  ['(Mn) ht3', [4.342546702249331, 1156.463988849468], None],\n",
       "  ['(Mn) ht1', [4.342546702249331, 1041.5180866700457], 5413]],\n",
       " 'shapes': [{'kind': 'phase',\n",
       "   'label': 'G',\n",
       "   'nphases': 1,\n",
       "   'svgpath': 'M 99.5997,999.721 L 100,1000 L 100,2073.8 L 71.3115,2073.8 L 71.9604,2073.71 L 72.6149,2073.46 L 73.2742,2073.04 L 73.9377,2072.48 L 74.6045,2071.76 L 75.2739,2070.9 L 75.9451,2069.91 L 76.6175,2068.79 L 77.2902,2067.55 L 77.9626,2066.19 L 78.6339,2064.73 L 79.3033,2063.16 L 79.9701,2061.49 L 80.6335,2059.74 L 81.2929,2057.9 L 81.9474,2055.99 L 82.5963,2054 L 83.4839,2048.31 L 84.3756,2040.94 L 85.2688,2031.68 L 86.1609,2020.35 L 87.0491,2006.73 L 87.9309,1990.64 L 88.8037,1971.86 L 89.6647,1950.21 L 90.5115,1925.49 L 91.3413,1897.48 L 92.1515,1866 L 92.9395,1830.84 L 93.7027,1791.81 L 94.4384,1748.7 L 95.144,1701.32 L 95.8169,1649.46 L 96.4544,1592.93 L 96.7826,1572.34 L 97.0875,1552.25 L 97.3695,1532.48 L 97.6287,1512.84 L 97.8652,1493.15 L 98.0794,1473.2 L 98.2713,1452.81 L 98.4412,1431.8 L 98.5892,1409.98 L 98.7156,1387.15 L 98.8204,1363.13 L 98.904,1337.73 L 98.9664,1310.76 L 99.0079,1282.03 L 99.0287,1251.36 L 99.0289,1218.56 L 99.0088,1183.43 L 99.0676,1174.49 L 99.1229,1165.29 L 99.1748,1155.84 L 99.2235,1146.13 L 99.2689,1136.18 L 99.3113,1126 L 99.3507,1115.58 L 99.3871,1104.93 L 99.4208,1094.06 L 99.4517,1082.97 L 99.48,1071.67 L 99.5057,1060.16 L 99.529,1048.45 L 99.55,1036.55 L 99.5687,1024.46 L 99.5852,1012.18 L 99.5997,999.721 M 99.5997,999.721 L 99.5997,999.721',\n",
       "   'is_solid': False,\n",
       "   'reflabel': 2},\n",
       "  {'kind': 'phase',\n",
       "   'label': 'MnO rt',\n",
       "   'phase': 'MnO/225/cF8',\n",
       "   'nphases': 1,\n",
       "   'svgpath': 'M 53.3168,1567 L 53.1562,1551.69 L 52.9972,1535.63 L 52.8401,1518.77 L 52.6848,1501.06 L 52.5317,1482.46 L 52.3807,1462.92 L 52.232,1442.38 L 52.0857,1420.8 L 51.9419,1398.13 L 51.8007,1374.33 L 51.6623,1349.33 L 51.5267,1323.11 L 51.3941,1295.59 L 51.2646,1266.74 L 51.1384,1236.52 L 51.0154,1204.86 L 50.8959,1171.72 L 50.8561,1164.22 L 50.8176,1156.37 L 50.7802,1148.18 L 50.744,1139.66 L 50.7089,1130.81 L 50.6751,1121.62 L 50.6424,1112.12 L 50.611,1102.29 L 50.5807,1092.14 L 50.5516,1081.68 L 50.5237,1070.91 L 50.497,1059.84 L 50.4715,1048.46 L 50.4471,1036.78 L 50.424,1024.81 L 50.402,1012.55 L 50.3812,1000 L 49.8094,1000 L 49.7713,1796.43 L 49.7744,1800.48 L 49.7774,1804.55 L 49.7803,1808.61 L 49.7833,1812.62 L 49.7865,1816.54 L 49.7902,1820.34 L 49.7944,1823.99 L 49.7994,1827.46 L 49.8053,1830.7 L 49.8123,1833.7 L 49.8205,1836.4 L 49.8301,1838.78 L 49.8412,1840.8 L 49.8541,1842.44 L 49.8689,1843.64 L 49.8857,1844.4 L 49.9047,1844.65 L 49.9385,1843.29 L 49.993,1839.3 L 50.0681,1832.83 L 50.164,1824.04 L 50.2806,1813.08 L 50.4181,1800.09 L 50.5764,1785.23 L 50.7556,1768.66 L 50.9557,1750.51 L 51.1769,1730.95 L 51.4191,1710.12 L 51.6824,1688.17 L 51.9668,1665.26 L 52.2724,1641.54 L 52.5992,1617.15 L 52.9474,1592.26 L 53.3168,1567 M 53.3168,1567 L 53.3168,1567',\n",
       "   'is_solid': True,\n",
       "   'phase_id': 7128,\n",
       "   'reflabel': 5,\n",
       "   'chemical_elements': ['O', 'Mn'],\n",
       "   'reference': {'phase': 'https://mpds.io/phase/MnO/225/cF8'}},\n",
       "  {'kind': 'phase',\n",
       "   'label': 'L',\n",
       "   'nphases': 1,\n",
       "   'svgpath': 'M 49.39,2054 L 49.3709,1796.43 L 49.4044,1801.83 L 49.4375,1806.93 L 49.4702,1811.71 L 49.5026,1816.18 L 49.5347,1820.34 L 49.5665,1824.17 L 49.5981,1827.69 L 49.6294,1830.88 L 49.6605,1833.74 L 49.6914,1836.28 L 49.7222,1838.49 L 49.7528,1840.36 L 49.7833,1841.9 L 49.8138,1843.1 L 49.8441,1843.96 L 49.8744,1844.48 L 49.9047,1844.65 L 49.967,1843.77 L 50.0591,1841.09 L 50.1797,1836.59 L 50.3279,1830.24 L 50.5023,1822.01 L 50.7018,1811.89 L 50.9254,1799.83 L 51.1719,1785.81 L 51.4401,1769.81 L 51.729,1751.8 L 52.0372,1731.74 L 52.3639,1709.62 L 52.7076,1685.4 L 53.0675,1659.05 L 53.4422,1630.56 L 53.8307,1599.88 L 54.2318,1567 L 55.0324,1592.93 L 49.39,2054 M 49.39,2054 L 49.39,2054',\n",
       "   'is_solid': False,\n",
       "   'reflabel': 1},\n",
       "  {'kind': 'phase',\n",
       "   'label': 'L',\n",
       "   'nphases': 1,\n",
       "   'svgpath': 'M 0,1263.99 L 0,2074.91 L 2.32558,2074.91 L 3.33587,2054 L 3.04994,1796.15 L 1.44872,1257.3 L 0,1263.99',\n",
       "   'is_solid': False},\n",
       "  {'kind': 'phase',\n",
       "   'label': '(Mn) ht1',\n",
       "   'phase': 'Mn/213/cP20',\n",
       "   'nphases': 1,\n",
       "   'svgpath': 'M 0,1000 L 0.819672,1000 L 1.14373,1099.24 L 0,1088.65 L 0.438429,1099.24 L 0.438429,1136.04 L 0,1146.35 L 0.934045,1136.04 L 0.190621,1257.3 L 0,1263.99 L 0,1000',\n",
       "   'is_solid': True,\n",
       "   'phase_id': 5413,\n",
       "   'reflabel': 8,\n",
       "   'chemical_elements': ['Mn'],\n",
       "   'reference': {'phase': 'https://mpds.io/phase/Mn/213/cP20'}},\n",
       "  {'kind': 'phase',\n",
       "   'label': 'Mn3O4 ht',\n",
       "   'phase': 'Mn3O4/227/cF56',\n",
       "   'nphases': 1,\n",
       "   'svgpath': 'M 56.6527,1592.93 L 55.9283,1567 L 56.1761,1171.72 L 56.6908,1183.43 L 56.6527,1592.93',\n",
       "   'is_solid': True,\n",
       "   'phase_id': 7126,\n",
       "   'reflabel': 3,\n",
       "   'chemical_elements': ['O', 'Mn'],\n",
       "   'reference': {'phase': 'https://mpds.io/phase/Mn3O4/227/cF56'}},\n",
       "  {'kind': 'phase',\n",
       "   'label': 'Mn3O4 rt',\n",
       "   'phase': 'Mn3O4/141/tI28',\n",
       "   'nphases': 1,\n",
       "   'svgpath': 'M 56.6146,1171.72 L 57.0721,1183.43 L 57.0721,1000 L 56.6146,1000 L 56.6146,1171.72',\n",
       "   'is_solid': True,\n",
       "   'phase_id': 7127,\n",
       "   'reflabel': 4,\n",
       "   'chemical_elements': ['O', 'Mn'],\n",
       "   'reference': {'phase': 'https://mpds.io/phase/Mn3O4/141/tI28'}},\n",
       "  {'kind': 'phase',\n",
       "   'nphases': 2,\n",
       "   'svgpath': 'M 1.22864,1257.44 L 0.290333,1261.77 L 0.396586,1258.04 L 0.400292,1257.44 L 1.22864,1257.44',\n",
       "   'is_solid': True},\n",
       "  {'kind': 'phase',\n",
       "   'nphases': 2,\n",
       "   'svgpath': 'M 56.119,1171.58 L 56.1207,1168.91 L 56.238,1171.58 L 56.119,1171.58',\n",
       "   'is_solid': True},\n",
       "  {'kind': 'phase',\n",
       "   'nphases': 2,\n",
       "   'svgpath': 'M 54.172,1567.14 L 53.7744,1599.74 L 53.386,1630.4 L 53.0114,1658.89 L 52.6516,1685.23 L 52.3079,1709.44 L 51.9814,1731.56 L 51.6732,1751.61 L 51.3845,1769.62 L 51.1164,1785.61 L 50.8701,1799.62 L 50.6468,1811.66 L 50.4475,1821.77 L 50.2735,1829.98 L 50.126,1836.3 L 50.0552,1838.94 L 50.1246,1832.97 L 50.2205,1824.17 L 50.3371,1813.21 L 50.4746,1800.22 L 50.6329,1785.36 L 50.812,1768.79 L 51.0122,1750.64 L 51.2333,1731.08 L 51.4754,1710.26 L 51.7387,1688.32 L 52.023,1665.41 L 52.3286,1641.7 L 52.6553,1617.32 L 53.0033,1592.43 L 53.3733,1567.14 L 54.172,1567.14',\n",
       "   'is_solid': True},\n",
       "  {'kind': 'phase',\n",
       "   'nphases': 2,\n",
       "   'svgpath': 'M 1.50555,1257.16 L 1.50262,1256.17 L 1.289,1257.16 L 0.402001,1257.16 L 1.14372,1136.18 L 49.7457,1136.18 L 49.7399,1257.16 L 1.50555,1257.16',\n",
       "   'is_solid': True},\n",
       "  {'kind': 'phase',\n",
       "   'nphases': 2,\n",
       "   'svgpath': 'M 1.14542,1135.9 L 1.18512,1129.42 L 0.648113,1135.35 L 0.648113,1098.38 L 0.64107,1098.21 L 1.37242,1104.99 L 1.04287,1004.07 L 1.02969,1000.03 L 1.02959,1000 L 49.7522,1000 L 49.7457,1135.9 L 1.14542,1135.9',\n",
       "   'is_solid': True},\n",
       "  {'kind': 'phase',\n",
       "   'nphases': 2,\n",
       "   'svgpath': 'M 56.2502,1171.86 L 56.748,1183.18 L 56.7099,1592.79 L 56.5871,1592.79 L 55.871,1567.17 L 56.1189,1171.86 L 56.2502,1171.86',\n",
       "   'is_solid': True},\n",
       "  {'kind': 'phase',\n",
       "   'nphases': 2,\n",
       "   'svgpath': 'M 56.7098,1593.07 L 56.7095,1597.03 L 56.7058,1597.04 L 56.5948,1593.07 L 56.7098,1593.07',\n",
       "   'is_solid': True},\n",
       "  {'kind': 'phase',\n",
       "   'nphases': 2,\n",
       "   'svgpath': 'M 100,2074.63 L 100,2100 L 0,2100 L 0,2075.75 L 2.35519,2075.75 L 3.39336,2054.26 L 3.39322,2054.14 L 49.333,2054.14 L 49.3333,2058.13 L 49.3965,2058.21 L 49.4463,2054.14 L 82.2712,2054.14 L 81.9359,2055.17 L 81.2819,2057.08 L 80.6231,2058.92 L 79.9602,2060.67 L 79.2939,2062.33 L 78.6251,2063.9 L 77.9545,2065.37 L 77.2828,2066.72 L 76.6107,2067.96 L 75.939,2069.08 L 75.2685,2070.07 L 74.5999,2070.93 L 73.9339,2071.64 L 73.2713,2072.21 L 72.6129,2072.62 L 71.9594,2072.87 L 71.0253,2073 L 71.0258,2074.63 L 100,2074.63',\n",
       "   'is_solid': True},\n",
       "  {'kind': 'phase',\n",
       "   'nphases': 2,\n",
       "   'svgpath': 'M 3.39291,2053.86 L 3.1076,1796.57 L 49.3138,1796.57 L 49.3329,2053.86 L 3.39291,2053.86',\n",
       "   'is_solid': True},\n",
       "  {'kind': 'phase',\n",
       "   'nphases': 2,\n",
       "   'svgpath': 'M 3.10729,1796.29 L 3.10711,1796.12 L 1.50638,1257.44 L 49.7399,1257.44 L 49.7141,1796.29 L 49.4275,1796.29 L 49.4023,1792.22 L 49.3135,1792.28 L 49.3138,1796.29 L 3.10729,1796.29',\n",
       "   'is_solid': True},\n",
       "  {'kind': 'phase',\n",
       "   'nphases': 2,\n",
       "   'svgpath': 'M 49.7142,1796.57 L 49.7173,1800.49 L 49.7202,1804.56 L 49.7231,1808.62 L 49.7261,1812.63 L 49.7293,1816.55 L 49.733,1820.35 L 49.7372,1824.01 L 49.7422,1827.48 L 49.7481,1830.73 L 49.7551,1833.73 L 49.7634,1836.44 L 49.768,1837.58 L 49.7476,1836.12 L 49.7169,1833.61 L 49.6859,1830.75 L 49.6547,1827.57 L 49.6232,1824.07 L 49.5915,1820.24 L 49.5594,1816.09 L 49.5271,1811.63 L 49.4944,1806.85 L 49.4613,1801.75 L 49.4292,1796.57 L 49.7142,1796.57',\n",
       "   'is_solid': True},\n",
       "  {'kind': 'phase',\n",
       "   'nphases': 2,\n",
       "   'svgpath': 'M 49.4497,2053.86 L 55.0918,1592.82 L 54.2988,1567.14 L 56.1189,1567.14 L 56.1189,1566.87 L 54.2902,1566.87 L 54.2079,1564.2 L 54.1754,1566.87 L 53.3732,1566.87 L 53.2127,1551.57 L 53.0538,1535.51 L 52.8968,1518.66 L 52.7416,1500.96 L 52.5885,1482.37 L 52.4375,1462.83 L 52.2889,1442.3 L 52.1426,1420.72 L 51.9988,1398.06 L 51.8577,1374.26 L 51.7193,1349.27 L 51.5837,1323.04 L 51.4512,1295.53 L 51.3217,1266.69 L 51.1955,1236.47 L 51.0725,1204.81 L 50.953,1171.66 L 50.9132,1164.15 L 50.8746,1156.31 L 50.8372,1148.13 L 50.801,1139.61 L 50.766,1130.76 L 50.7322,1121.58 L 50.6996,1112.08 L 50.6681,1102.25 L 50.6378,1092.11 L 50.6088,1081.65 L 50.5809,1070.88 L 50.5542,1059.81 L 50.5286,1048.43 L 50.5043,1036.76 L 50.4811,1024.79 L 50.4592,1012.53 L 50.4384,1000 L 56.5574,1000 L 56.5574,1171.94 L 57.0007,1183.29 L 56.5002,1183.29 L 56.5002,1183.57 L 57.0116,1183.57 L 57.1292,1186.58 L 57.1292,1183.57 L 98.9517,1183.57 L 98.9717,1218.56 L 98.9715,1251.36 L 98.9508,1282.02 L 98.9092,1310.74 L 98.8468,1337.69 L 98.7633,1363.08 L 98.6585,1387.09 L 98.5322,1409.9 L 98.3843,1431.71 L 98.2146,1452.71 L 98.0228,1473.08 L 97.8088,1493.01 L 97.5724,1512.69 L 97.3134,1532.32 L 97.0316,1552.08 L 96.7268,1572.15 L 96.3983,1592.77 L 95.7606,1649.31 L 95.088,1701.15 L 94.3827,1748.51 L 93.6475,1791.59 L 92.8849,1830.6 L 92.0976,1865.72 L 91.2883,1897.17 L 90.4596,1925.13 L 89.6144,1949.82 L 88.7552,1971.42 L 87.8849,1990.14 L 87.006,2006.18 L 86.1213,2019.74 L 85.2335,2031.02 L 84.3449,2040.23 L 83.4583,2047.56 L 82.5787,2053.2 L 82.3624,2053.86 L 49.4497,2053.86',\n",
       "   'is_solid': True},\n",
       "  {'kind': 'phase',\n",
       "   'nphases': 2,\n",
       "   'svgpath': 'M 57.1292,1183.29 L 57.1292,1000 L 99.5422,1000 L 99.5281,1012.16 L 99.5115,1024.44 L 99.4928,1036.53 L 99.4719,1048.43 L 99.4486,1060.13 L 99.4228,1071.64 L 99.3946,1082.93 L 99.3636,1094.02 L 99.33,1104.89 L 99.2936,1115.53 L 99.2542,1125.95 L 99.2119,1136.13 L 99.1664,1146.07 L 99.1178,1155.77 L 99.0659,1165.22 L 99.0106,1174.41 L 98.9522,1183.29 L 57.1292,1183.29',\n",
       "   'is_solid': True},\n",
       "  {'kind': 'compound',\n",
       "   'label': '(Mn) ht3',\n",
       "   'nphases': 1,\n",
       "   'svgpath': 'M 0.438429,1099.24 L 0.438429,1136.04',\n",
       "   'is_solid': True,\n",
       "   'reflabel': 7},\n",
       "  {'kind': 'compound',\n",
       "   'nphases': 1,\n",
       "   'svgpath': 'M 57.0721,1183.43 L 57.0721,1000',\n",
       "   'is_solid': True}],\n",
       " 'diatype': 'binary',\n",
       " 'title_a': 'Mn',\n",
       " 'title_b': 'O',\n",
       " 'comp_end': {'O': 1, 'Mn': 0},\n",
       " 'comp_range': [0.0, 100.0],\n",
       " 'comp_start': {'O': 0, 'Mn': 1},\n",
       " 'chemical_elements': ['Mn', 'O'],\n",
       " 'object_repr': 'C-A270946',\n",
       " '$schema': 'https://developer.mpds.io/mpds.schema.json#/definitions/phase_diagram',\n",
       " 'version': '1.2.0',\n",
       " 'object_type': 'C',\n",
       " 'use_visavis_type': 'pd',\n",
       " 'reference': {'entry': 'https://mpds.io/entry/C903466'}}"
      ]
     },
     "execution_count": 2,
     "metadata": {},
     "output_type": "execute_result"
    }
   ],
   "source": [
    "#Pulling in Mn-O system data, json downloaded manually from MPDS\n",
    "\n",
    "f = open('data\\Mn-O\\MnO.json')\n",
    "data = json.load(f)\n",
    "\n",
    "data"
   ]
  },
  {
   "cell_type": "markdown",
   "metadata": {},
   "source": [
    "The function below uses the specified material system to extract solidus curves into matplotlib compatible path. Accepts phase diagram data in JSON format. Function uses the same error handling developed for the extract_MPDS_liquidus function."
   ]
  },
  {
   "cell_type": "code",
   "execution_count": 3,
   "metadata": {},
   "outputs": [],
   "source": [
    "def extract_MPDS_Solidus(MPDS_json, verbose=True):\n",
    "    if MPDS_json['reference'] is None:\n",
    "        if verbose:\n",
    "            print(\"system JSON does not contain any data!\\n\")\n",
    "        return None\n",
    "\n",
    "    components = MPDS_json['chemical_elements']\n",
    "    if verbose:\n",
    "        print(\"reading MPDS solidus from entry at \" + MPDS_json['reference']['entry'] + \"...\\n\")\n",
    "    \n",
    "    # extract solidus curve svgpath from system JSON\n",
    "    curves = \"\"\n",
    "    for boundary in MPDS_json['shapes']:\n",
    "        if 'label' in boundary and boundary['label'] != 'L' and boundary['label'] != 'G':\n",
    "            curves = curves + boundary['svgpath']\n",
    "            continue\n",
    "    if not data:\n",
    "        if verbose:\n",
    "            print(\"no solidus data found in JSON!\")\n",
    "        return None\n",
    "    \n",
    "    path = parse_path(curves)\n",
    "\n",
    "    \n",
    "    # return matplotlib path\n",
    "    return path, path.vertices, path.codes\n"
   ]
  },
  {
   "cell_type": "code",
   "execution_count": 4,
   "metadata": {},
   "outputs": [
    {
     "name": "stdout",
     "output_type": "stream",
     "text": [
      "reading MPDS solidus from entry at https://mpds.io/entry/C903466...\n",
      "\n"
     ]
    }
   ],
   "source": [
    "MnOpath, vert, b_code= extract_MPDS_Solidus(data, verbose=True)"
   ]
  },
  {
   "cell_type": "code",
   "execution_count": 5,
   "metadata": {},
   "outputs": [
    {
     "data": {
      "image/png": "[encoded data removed]",
      "text/plain": [
       "<Figure size 640x480 with 1 Axes>"
      ]
     },
     "metadata": {},
     "output_type": "display_data"
    }
   ],
   "source": [
    "#Using Matplotlib patches to plot Mn-O system diagram\n",
    "\n",
    "fig = plt.figure()\n",
    "ax = fig.add_subplot(111)\n",
    "patch = patches.PathPatch(MnOpath)\n",
    "ax.add_patch(patch)\n",
    "ax.set_ylim(data['temp'][0],data['temp'][1])\n",
    "ax.set_xlim(data['comp_range'][0],data['comp_range'][1])\n",
    "plt.show()"
   ]
  },
  {
   "cell_type": "markdown",
   "metadata": {},
   "source": [
    "#### Data Cleaning\n",
    "\n",
    "Temperature axis and composition are correct, no cleaning needed."
   ]
  },
  {
   "cell_type": "markdown",
   "metadata": {},
   "source": [
    "#### Calculating Solubility Limit\n",
    "\n",
    "The function below pulls the temperature and fractional composition at the rightmost point of each phase. Solubility limits of each phase will be assumed at these boundaries. It is worth exploring more advanced methods of calculating the solubility limit through a series of equations to generate a gibbs free energy vs. fractional coposition diagram."
   ]
  },
  {
   "cell_type": "code",
   "execution_count": 6,
   "metadata": {},
   "outputs": [],
   "source": [
    "def extract_solubility_limit(path):\n",
    "    # convert to coordinates in fractional composition, kelvin\n",
    "    vertices = [[float(i[0])/100 , float(i[1])+273.15] for i in path._vertices]\n",
    "    codes = path._codes\n",
    "\n",
    "    sections=[]\n",
    "    ind = 0\n",
    "    solubility_limits = []\n",
    "\n",
    "    for i in range(0,len(vertices)-1):\n",
    "        if (codes[i+1] == 1 or None):\n",
    "            b = i + 1\n",
    "            sections.append(vertices[ind:b])\n",
    "            ind = b\n",
    "        else: \n",
    "            continue\n",
    "\n",
    "    sections.append(vertices[ind:])\n",
    "\n",
    "    \n",
    "    for section in sections:\n",
    "        # Sort by X (descending), determinding the rightmost point of the given svgpath\n",
    "        sorted_coordinates= sorted(section, key=lambda c: ( -c[0]))\n",
    "        solubility_limits.append(sorted_coordinates[0])\n",
    "\n",
    "    return solubility_limits\n"
   ]
  },
  {
   "cell_type": "code",
   "execution_count": 7,
   "metadata": {},
   "outputs": [
    {
     "data": {
      "text/plain": [
       "[[0.533168, 1840.15],\n",
       " [0.533168, 1840.15],\n",
       " [0.0114373, 1372.3899999999999],\n",
       " [0.5669080000000001, 1456.58],\n",
       " [0.570721, 1456.58],\n",
       " [0.00438429, 1372.3899999999999]]"
      ]
     },
     "execution_count": 7,
     "metadata": {},
     "output_type": "execute_result"
    }
   ],
   "source": [
    "extract_solubility_limit(MnOpath)"
   ]
  },
  {
   "cell_type": "code",
   "execution_count": 8,
   "metadata": {},
   "outputs": [],
   "source": [
    "#Formation energy is stored in units of eV/atom in Materials Project, creating conversion function to put in correct units.\n",
    "\n",
    "def convert_formation_energy(eV_atom):\n",
    "    J_mol= eV_atom*(1.6*10**-19)*(6.02*10**23)\n",
    "\n",
    "    return J_mol\n"
   ]
  },
  {
   "cell_type": "code",
   "execution_count": 9,
   "metadata": {},
   "outputs": [],
   "source": [
    "def calculate_gibbs_free_energy(Tm,molEntr,T,transEnth):\n",
    "    #Tm is the phase transition temperature (units: Kelvin)\n",
    "    # molEntr is Molar Entropy (units: J/mol/K)\n",
    "    # T is Temperature (units: Kelvin)\n",
    "    #transEnth is transition enthalpy (units: J/mol)\n",
    "\n",
    "    \n",
    "    deltaS = transEnth/Tm\n",
    "    G_CS1 = (-T)*(molEntr)\n",
    "    deltaG = transEnth -(T*deltaS)\n",
    "    G_CS2 = G_CS1 + deltaG\n",
    "\n",
    "    return G_CS2"
   ]
  },
  {
   "cell_type": "code",
   "execution_count": 10,
   "metadata": {},
   "outputs": [],
   "source": [
    "def solve_mixing_enthalpy(G, x, y, T, formEng, R=8.314):\n",
    "    # G is Gibbs Free Energy (units: J/mol)\n",
    "    # x is solubility limit (units:fractional composition)\n",
    "    # y is the composition of competing oxide (units:fractional composition)\n",
    "    # T is observed temperature (units: Kelvin)\n",
    "    # formEng is Formation energy (units: J/mol)\n",
    "    # R is ideal gas constant (units: J/mol_K)\n",
    "\n",
    "    w = Symbol('w')\n",
    "\n",
    "    eqn = (G + w*x*(1-x)+R*T*(x*np.log(x)+(1-x)*np.log(1-x))) + (y-x) *(w-2*w*x+R*T*(np.log(x)-np.log(1-x))) - formEng\n",
    "\n",
    "    return solve(eqn)\n",
    "    \n"
   ]
  },
  {
   "cell_type": "code",
   "execution_count": 11,
   "metadata": {},
   "outputs": [],
   "source": [
    "#From Materials Project MnO system, predicted formation energy\n",
    "ef=convert_formation_energy(-2.048)"
   ]
  },
  {
   "cell_type": "markdown",
   "metadata": {},
   "source": [
    "- Enthalpy Change of MnO -> Mn3O4: https://mpds.io/#entry/P1800078\n",
    "- Molar Entropy of MnO: https://mpds.io/#entry/P1002654"
   ]
  },
  {
   "cell_type": "code",
   "execution_count": 12,
   "metadata": {},
   "outputs": [
    {
     "data": {
      "text/plain": [
       "[-450935.895719325]"
      ]
     },
     "execution_count": 12,
     "metadata": {},
     "output_type": "execute_result"
    }
   ],
   "source": [
    "# deltaG (MnO -> Mn3O4) at 0 degrees K\n",
    "\n",
    "G_Mn3O4  = calculate_gibbs_free_energy(1840.15, 59.70568, 1443,20920)\n",
    "\n",
    "solve_mixing_enthalpy(G_Mn3O4, 0.533168, 0.42, 0, ef)"
   ]
  }
 ],
 "metadata": {
  "kernelspec": {
   "display_name": "matprojenv",
   "language": "python",
   "name": "python3"
  },
  "language_info": {
   "codemirror_mode": {
    "name": "ipython",
    "version": 3
   },
   "file_extension": ".py",
   "mimetype": "text/x-python",
   "name": "python",
   "nbconvert_exporter": "python",
   "pygments_lexer": "ipython3",
   "version": "3.9.18"
  }
 },
 "nbformat": 4,
 "nbformat_minor": 2
}
