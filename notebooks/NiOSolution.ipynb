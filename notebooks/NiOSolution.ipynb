{
 "cells": [
  {
   "cell_type": "markdown",
   "metadata": {},
   "source": [
    "## Nickel Oxide Solution (NiO)"
   ]
  },
  {
   "cell_type": "code",
   "execution_count": 1,
   "metadata": {},
   "outputs": [],
   "source": [
    "#Data Visualization\n",
    "%matplotlib inline\n",
    "import matplotlib as mpl\n",
    "import matplotlib.pyplot as plt\n",
    "from matplotlib.path import Path\n",
    "import matplotlib.patches as patches\n",
    "\n",
    "#Data Conversion\n",
    "from IPython.display import HTML, SVG\n",
    "import numpy as np\n",
    "from svgpath2mpl import parse_path\n",
    "from operator import itemgetter\n",
    "import json\n",
    "\n",
    "#Solving Equations\n",
    "from sympy import Eq, Symbol, solve"
   ]
  },
  {
   "cell_type": "code",
   "execution_count": 2,
   "metadata": {},
   "outputs": [
    {
     "data": {
      "text/plain": [
       "{'temp': [0, 1600.0],\n",
       " 'arity': 2,\n",
       " 'entry': 'C103523',\n",
       " 'naxes': 2,\n",
       " 'labels': [['L', [0.6765154403354937, 1508.7683730359859], None],\n",
       "  ['(Ni)', [0.11656881433480633, 731.2275722249792], 186],\n",
       "  ['(Ni) + NiO ht', [1.2296035074342355, 636.5940192600101], 7212]],\n",
       " 'shapes': [{'kind': 'phase',\n",
       "   'label': 'L',\n",
       "   'nphases': 1,\n",
       "   'svgpath': 'M 0.0833969,0 L 0,0 L 0,1600 L 3.12838,1600 L 3.12838,1565.13 L 0.809283,1437 L 0,1452 L 0.286218,1437 L 0.0833969,0',\n",
       "   'is_solid': False},\n",
       "  {'kind': 'phase',\n",
       "   'nphases': 2,\n",
       "   'svgpath': 'M 0.0907627,0 L 3.5,0 L 3.5,1600 L 3.13572,1600 L 3.13572,1561.06 L 0.873524,1436.07 L 0.873507,1436.07 L 0.809504,1432.53 L 0.632344,1435.82 L 0.632349,1436.04 L 0.620642,1436.03 L 0.263857,1442.65 L 0.294157,1441.06 L 0.293727,1438.02 L 0.293727,1438.02 L 0.0907627,0',\n",
       "   'is_solid': True}],\n",
       " 'diatype': 'binary',\n",
       " 'title_a': 'Ni',\n",
       " 'title_b': 'O',\n",
       " 'comp_end': {'O': 1, 'Ni': 0},\n",
       " 'comp_range': [0.0, 3.5],\n",
       " 'comp_start': {'O': 0, 'Ni': 1},\n",
       " 'chemical_elements': ['Ni', 'O'],\n",
       " 'object_repr': 'C-A270946',\n",
       " '$schema': 'https://developer.mpds.io/mpds.schema.json#/definitions/phase_diagram',\n",
       " 'version': '1.2.0',\n",
       " 'object_type': 'C',\n",
       " 'use_visavis_type': 'pd',\n",
       " 'reference': {'entry': 'https://mpds.io/entry/C103523'}}"
      ]
     },
     "execution_count": 2,
     "metadata": {},
     "output_type": "execute_result"
    }
   ],
   "source": [
    "#Pulling in Ni-O system data, json downloaded manually from MPDS\n",
    "\n",
    "f = open('data\\Ni-O\\NiO.json')\n",
    "data = json.load(f)\n",
    "\n",
    "data"
   ]
  },
  {
   "cell_type": "markdown",
   "metadata": {},
   "source": [
    "The function below uses the specified material system to extract solidus curves into matplotlib compatible path. Accepts phase diagram data in JSON format. Function uses the same error handling developed for the extract_MPDS_liquidus function."
   ]
  },
  {
   "cell_type": "code",
   "execution_count": 3,
   "metadata": {},
   "outputs": [],
   "source": [
    "def extract_MPDS_Solidus(MPDS_json, verbose=True):\n",
    "    if MPDS_json['reference'] is None:\n",
    "        if verbose:\n",
    "            print(\"system JSON does not contain any data!\\n\")\n",
    "        return None\n",
    "\n",
    "    components = MPDS_json['chemical_elements']\n",
    "    if verbose:\n",
    "        print(\"reading MPDS solidus from entry at \" + MPDS_json['reference']['entry'] + \"...\\n\")\n",
    "    \n",
    "    # extract solidus curve svgpath from system JSON\n",
    "    curves = \"\"\n",
    "    for boundary in MPDS_json['shapes']:\n",
    "        if 'label' in boundary and boundary['label'] != 'L' and boundary['label'] != 'G':\n",
    "            curves = curves + boundary['svgpath']\n",
    "            continue\n",
    "    if not data:\n",
    "        if verbose:\n",
    "            print(\"no solidus data found in JSON!\")\n",
    "        return None\n",
    "    \n",
    "    path = parse_path(curves)\n",
    "\n",
    "    \n",
    "    # return matplotlib path\n",
    "    return path, path.vertices, path.codes\n"
   ]
  },
  {
   "cell_type": "code",
   "execution_count": 4,
   "metadata": {},
   "outputs": [
    {
     "name": "stdout",
     "output_type": "stream",
     "text": [
      "reading MPDS solidus from entry at https://mpds.io/entry/C103523...\n",
      "\n"
     ]
    },
    {
     "ename": "ValueError",
     "evalue": "'vertices' must be 2D with shape (N, 2), but your input has shape (0,)",
     "output_type": "error",
     "traceback": [
      "\u001b[1;31m---------------------------------------------------------------------------\u001b[0m",
      "\u001b[1;31mValueError\u001b[0m                                Traceback (most recent call last)",
      "Cell \u001b[1;32mIn[4], line 1\u001b[0m\n\u001b[1;32m----> 1\u001b[0m CrOpath, vert, b_code\u001b[38;5;241m=\u001b[39m \u001b[43mextract_MPDS_Solidus\u001b[49m\u001b[43m(\u001b[49m\u001b[43mdata\u001b[49m\u001b[43m,\u001b[49m\u001b[43m \u001b[49m\u001b[43mverbose\u001b[49m\u001b[38;5;241;43m=\u001b[39;49m\u001b[38;5;28;43;01mTrue\u001b[39;49;00m\u001b[43m)\u001b[49m\n",
      "Cell \u001b[1;32mIn[3], line 22\u001b[0m, in \u001b[0;36mextract_MPDS_Solidus\u001b[1;34m(MPDS_json, verbose)\u001b[0m\n\u001b[0;32m     19\u001b[0m         \u001b[38;5;28mprint\u001b[39m(\u001b[38;5;124m\"\u001b[39m\u001b[38;5;124mno solidus data found in JSON!\u001b[39m\u001b[38;5;124m\"\u001b[39m)\n\u001b[0;32m     20\u001b[0m     \u001b[38;5;28;01mreturn\u001b[39;00m \u001b[38;5;28;01mNone\u001b[39;00m\n\u001b[1;32m---> 22\u001b[0m path \u001b[38;5;241m=\u001b[39m \u001b[43mparse_path\u001b[49m\u001b[43m(\u001b[49m\u001b[43mcurves\u001b[49m\u001b[43m)\u001b[49m\n\u001b[0;32m     25\u001b[0m \u001b[38;5;66;03m# return matplotlib path\u001b[39;00m\n\u001b[0;32m     26\u001b[0m \u001b[38;5;28;01mreturn\u001b[39;00m path, path\u001b[38;5;241m.\u001b[39mvertices, path\u001b[38;5;241m.\u001b[39mcodes\n",
      "File \u001b[1;32mc:\\Users\\andri\\anaconda3\\envs\\matprojenv\\lib\\site-packages\\svgpath2mpl.py:518\u001b[0m, in \u001b[0;36mparse_path\u001b[1;34m(pathdef, current_pos)\u001b[0m\n\u001b[0;32m    516\u001b[0m     codes\u001b[38;5;241m.\u001b[39mextend(c)\n\u001b[0;32m    517\u001b[0m     verts\u001b[38;5;241m.\u001b[39mextend(v)\n\u001b[1;32m--> 518\u001b[0m \u001b[38;5;28;01mreturn\u001b[39;00m \u001b[43mPath\u001b[49m\u001b[43m(\u001b[49m\u001b[43mverts\u001b[49m\u001b[43m,\u001b[49m\u001b[43m \u001b[49m\u001b[43mcodes\u001b[49m\u001b[43m)\u001b[49m\n",
      "File \u001b[1;32mc:\\Users\\andri\\anaconda3\\envs\\matprojenv\\lib\\site-packages\\matplotlib\\path.py:130\u001b[0m, in \u001b[0;36mPath.__init__\u001b[1;34m(self, vertices, codes, _interpolation_steps, closed, readonly)\u001b[0m\n\u001b[0;32m    101\u001b[0m \u001b[38;5;250m\u001b[39m\u001b[38;5;124;03m\"\"\"\u001b[39;00m\n\u001b[0;32m    102\u001b[0m \u001b[38;5;124;03mCreate a new path with the given vertices and codes.\u001b[39;00m\n\u001b[0;32m    103\u001b[0m \n\u001b[1;32m   (...)\u001b[0m\n\u001b[0;32m    127\u001b[0m \u001b[38;5;124;03m    and codes as read-only arrays.\u001b[39;00m\n\u001b[0;32m    128\u001b[0m \u001b[38;5;124;03m\"\"\"\u001b[39;00m\n\u001b[0;32m    129\u001b[0m vertices \u001b[38;5;241m=\u001b[39m _to_unmasked_float_array(vertices)\n\u001b[1;32m--> 130\u001b[0m \u001b[43m_api\u001b[49m\u001b[38;5;241;43m.\u001b[39;49m\u001b[43mcheck_shape\u001b[49m\u001b[43m(\u001b[49m\u001b[43m(\u001b[49m\u001b[38;5;28;43;01mNone\u001b[39;49;00m\u001b[43m,\u001b[49m\u001b[43m \u001b[49m\u001b[38;5;241;43m2\u001b[39;49m\u001b[43m)\u001b[49m\u001b[43m,\u001b[49m\u001b[43m \u001b[49m\u001b[43mvertices\u001b[49m\u001b[38;5;241;43m=\u001b[39;49m\u001b[43mvertices\u001b[49m\u001b[43m)\u001b[49m\n\u001b[0;32m    132\u001b[0m \u001b[38;5;28;01mif\u001b[39;00m codes \u001b[38;5;129;01mis\u001b[39;00m \u001b[38;5;129;01mnot\u001b[39;00m \u001b[38;5;28;01mNone\u001b[39;00m:\n\u001b[0;32m    133\u001b[0m     codes \u001b[38;5;241m=\u001b[39m np\u001b[38;5;241m.\u001b[39masarray(codes, \u001b[38;5;28mself\u001b[39m\u001b[38;5;241m.\u001b[39mcode_type)\n",
      "File \u001b[1;32mc:\\Users\\andri\\anaconda3\\envs\\matprojenv\\lib\\site-packages\\matplotlib\\_api\\__init__.py:161\u001b[0m, in \u001b[0;36mcheck_shape\u001b[1;34m(shape, **kwargs)\u001b[0m\n\u001b[0;32m    158\u001b[0m \u001b[38;5;28;01mif\u001b[39;00m \u001b[38;5;28mlen\u001b[39m(shape) \u001b[38;5;241m==\u001b[39m \u001b[38;5;241m1\u001b[39m:\n\u001b[0;32m    159\u001b[0m     text_shape \u001b[38;5;241m+\u001b[39m\u001b[38;5;241m=\u001b[39m \u001b[38;5;124m\"\u001b[39m\u001b[38;5;124m,\u001b[39m\u001b[38;5;124m\"\u001b[39m\n\u001b[1;32m--> 161\u001b[0m \u001b[38;5;28;01mraise\u001b[39;00m \u001b[38;5;167;01mValueError\u001b[39;00m(\n\u001b[0;32m    162\u001b[0m     \u001b[38;5;124mf\u001b[39m\u001b[38;5;124m\"\u001b[39m\u001b[38;5;132;01m{\u001b[39;00mk\u001b[38;5;132;01m!r}\u001b[39;00m\u001b[38;5;124m must be \u001b[39m\u001b[38;5;132;01m{\u001b[39;00m\u001b[38;5;28mlen\u001b[39m(shape)\u001b[38;5;132;01m}\u001b[39;00m\u001b[38;5;124mD with shape (\u001b[39m\u001b[38;5;132;01m{\u001b[39;00mtext_shape\u001b[38;5;132;01m}\u001b[39;00m\u001b[38;5;124m), \u001b[39m\u001b[38;5;124m\"\u001b[39m\n\u001b[0;32m    163\u001b[0m     \u001b[38;5;124mf\u001b[39m\u001b[38;5;124m\"\u001b[39m\u001b[38;5;124mbut your input has shape \u001b[39m\u001b[38;5;132;01m{\u001b[39;00mv\u001b[38;5;241m.\u001b[39mshape\u001b[38;5;132;01m}\u001b[39;00m\u001b[38;5;124m\"\u001b[39m\n\u001b[0;32m    164\u001b[0m )\n",
      "\u001b[1;31mValueError\u001b[0m: 'vertices' must be 2D with shape (N, 2), but your input has shape (0,)"
     ]
    }
   ],
   "source": [
    "CrOpath, vert, b_code= extract_MPDS_Solidus(data, verbose=True)"
   ]
  },
  {
   "cell_type": "markdown",
   "metadata": {},
   "source": [
    "Ni solid phase not defined in JSON File"
   ]
  }
 ],
 "metadata": {
  "kernelspec": {
   "display_name": "matprojenv",
   "language": "python",
   "name": "python3"
  },
  "language_info": {
   "codemirror_mode": {
    "name": "ipython",
    "version": 3
   },
   "file_extension": ".py",
   "mimetype": "text/x-python",
   "name": "python",
   "nbconvert_exporter": "python",
   "pygments_lexer": "ipython3",
   "version": "3.9.18"
  }
 },
 "nbformat": 4,
 "nbformat_minor": 2
}
