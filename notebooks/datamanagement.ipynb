{
 "cells": [
  {
   "cell_type": "code",
   "execution_count": null,
   "metadata": {},
   "outputs": [],
   "source": [
    "from mpds_client import MPDSDataRetrieval, MPDSDataTypes, APIError\n",
    "from mp_api.client import MPRester as New_MPRester\n",
    "from urllib.parse import urlencode\n",
    "import httplib2\n",
    "from pymatgen.ext.matproj import MPRester as Legacy_MPRester\n",
    "from emmet.core.thermo import ThermoType\n",
    "from pymatgen.entries.mixing_scheme import MaterialsProjectDFTMixingScheme\n",
    "from pymatgen.entries.computed_entries import ComputedEntry\n",
    "from pymatgen.analysis.phase_diagram import PhaseDiagram\n",
    "from pymatgen.core import Element\n",
    "\n",
    "import os\n",
    "import json\n",
    "import time\n",
    "import numpy as np"
   ]
  }
 ],
 "metadata": {
  "kernelspec": {
   "display_name": "matprojenv",
   "language": "python",
   "name": "python3"
  },
  "language_info": {
   "name": "python",
   "version": "3.9.18"
  }
 },
 "nbformat": 4,
 "nbformat_minor": 2
}
