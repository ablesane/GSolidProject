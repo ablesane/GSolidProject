{
 "cells": [
  {
   "cell_type": "markdown",
   "metadata": {},
   "source": [
    "Notebook explores  MaterialsProject API: Determining stable phases from predicted energy values, calculating energies."
   ]
  },
  {
   "cell_type": "code",
   "execution_count": 29,
   "metadata": {},
   "outputs": [],
   "source": [
    "from mp_api.client import MPRester as New_MPRester\n",
    "from urllib.parse import urlencode\n",
    "import httplib2\n",
    "from pymatgen.ext.matproj import MPRester as Legacy_MPRester\n",
    "from emmet.core.thermo import ThermoType\n",
    "from pymatgen.entries.mixing_scheme import MaterialsProjectDFTMixingScheme\n",
    "from pymatgen.entries.computed_entries import ComputedEntry\n",
    "from pymatgen.analysis.phase_diagram import PhaseDiagram\n",
    "from pymatgen.core import Element\n",
    "\n",
    "import os\n",
    "import json\n",
    "import time\n",
    "import numpy as np"
   ]
  },
  {
   "cell_type": "code",
   "execution_count": 30,
   "metadata": {},
   "outputs": [],
   "source": [
    "New_MP_api_key =\"SECRETKEY\"\n",
    "Legacy_MP_api_key = \"SECRETKEY\"\n",
    "\n",
    "data_dir = 'data'\n",
    "enthalpies_file = data_dir + \"\\\\fusion_enthalpies.json\"\n",
    "melt_temps_file = data_dir + \"\\\\fusion_temperatures.json\"\n",
    "\n",
    "if not os.path.exists(enthalpies_file):\n",
    "    enthalpies = {}\n",
    "else:\n",
    "    with open(enthalpies_file, \"r\") as file:\n",
    "        enthalpies = json.load(file)\n",
    "\n",
    "if not os.path.exists(melt_temps_file):\n",
    "    melt_temps = {}\n",
    "else:\n",
    "    with open(melt_temps_file, \"r\") as file:\n",
    "        melt_temps = json.load(file)"
   ]
  },
  {
   "cell_type": "code",
   "execution_count": 31,
   "metadata": {},
   "outputs": [],
   "source": [
    "# returns the DFT convex hull of a given system with specified functionals\n",
    "def get_dft_convexhull(components, verbose=False):\n",
    "    dft_type = \"GGA/GGA+U\"\n",
    "    # if dft_type not in dft_types:\n",
    "    #     print(\"invalid DFT type\")\n",
    "    #     exit(1)\n",
    "    if 'Yb' in components:\n",
    "        dft_type = \"GGA\"\n",
    "\n",
    "    if verbose:\n",
    "        print(\"using DFT entries solved with\", dft_type, \"functionals\")\n",
    "    sys = '-'.join(sorted(components))\n",
    "\n",
    "    # dft_type_path = '_'.join(dft_type.split('/'))\n",
    "    # dft_entries_file = os.path.join(f\"{data_dir}\\\\{sys}\", f\"{sys}_MP_ENTRIES_{dft_type_path}.json\")\n",
    "    dft_entries_file = os.path.join(f\"{data_dir}\\\\{sys}\", f\"{sys}_ENTRIES_MP_GGA.json\")\n",
    "\n",
    "    if os.path.exists(dft_entries_file):\n",
    "        with open(dft_entries_file, \"r\") as f:\n",
    "            dft_entries = json.load(f)\n",
    "\n",
    "        try:\n",
    "            pd = PhaseDiagram(elements=[Element(c) for c in components],\n",
    "                              entries=[ComputedEntry.from_dict(e) for e in dft_entries])\n",
    "            if verbose:\n",
    "                print(len(pd.stable_entries) - 2, \"stable line compound(s) on the DFT convex hull\\n\")\n",
    "            return pd\n",
    "        except ValueError as e:\n",
    "            print(f\"error loading DFT entries from cache: {e}\")\n",
    "\n",
    "    # no cache or invalid cached data\n",
    "    entries = []\n",
    "\n",
    "    # using legacy MP energies (GGA)\n",
    "    if dft_type == \"GGA\":\n",
    "        with Legacy_MPRester(Legacy_MP_api_key) as MPR:\n",
    "            entries = MPR.get_entries_in_chemsys(components, inc_structure=True)\n",
    "\n",
    "    # using new MP energies (GGA/GGA+U, R2SCAN, GGA/GGA+U/R2SCAN)\n",
    "    else:\n",
    "        with New_MPRester(New_MP_api_key) as MPR:\n",
    "            # if dft_type == \"R2SCAN\" or dft_type == \"GGA/GGA+U/R2SCAN\":\n",
    "            #     scan_entries = MPR.get_entries_in_chemsys(components,\n",
    "            #                                               additional_criteria={\n",
    "            #                                                   'thermo_types': [ThermoType.R2SCAN]})\n",
    "            if dft_type == \"GGA/GGA+U\" or dft_type == \"GGA/GGA+U/R2SCAN\":\n",
    "                gga_entries = MPR.get_entries_in_chemsys(components,\n",
    "                                                         additional_criteria={\n",
    "                                                             'thermo_types': [ThermoType.GGA_GGA_U]})\n",
    "\n",
    "        # if dft_type == \"GGA/GGA+U/R2SCAN\":\n",
    "        #     entries = MaterialsProjectDFTMixingScheme().process_entries(scan_entries + gga_entries,\n",
    "        #                                                                 verbose=verbose)\n",
    "        if dft_type == \"GGA/GGA+U\":\n",
    "            entries = MaterialsProjectDFTMixingScheme().process_entries(gga_entries, verbose=verbose)\n",
    "        # elif dft_type == \"R2SCAN\":\n",
    "        #     entries = MaterialsProjectDFTMixingScheme().process_entries(scan_entries, verbose=verbose)\n",
    "\n",
    "    if verbose:\n",
    "        print(f\"caching DFT entry data as {dft_entries_file}...\")\n",
    "    dft_entries = [e.as_dict() for e in entries]\n",
    "    for e in dft_entries:\n",
    "        e.pop('structure')\n",
    "        e.pop('data')\n",
    "    with open(dft_entries_file, \"w\") as f:\n",
    "        json.dump(dft_entries, f)\n",
    "\n",
    "    try:\n",
    "        pd = PhaseDiagram(elements=[Element(c) for c in components],\n",
    "                          entries=[ComputedEntry.from_dict(e) for e in dft_entries])\n",
    "        if verbose:\n",
    "            print(len(pd.stable_entries) - 2, \"stable line compound(s) on the DFT convex hull\\n\")\n",
    "        return pd\n",
    "    except ValueError as e:\n",
    "        print(f\"error with DFT entries downloaded from API: {e}\")\n",
    "        return None\n",
    "\n",
    "\n",
    "\n"
   ]
  },
  {
   "cell_type": "code",
   "execution_count": 33,
   "metadata": {},
   "outputs": [
    {
     "name": "stderr",
     "output_type": "stream",
     "text": [
      "Retrieving ThermoDoc documents: 100%|██████████| 117/117 [00:00<00:00, 115303.94it/s]\n",
      "c:\\Users\\andri\\anaconda3\\envs\\matprojenv\\lib\\site-packages\\pymatgen\\entries\\compatibility.py:1039: UserWarning: Failed to guess oxidation states for Entry mp-1206821-GGA+U (Cr2O). Assigning anion correction to only the most electronegative atom.\n",
      "  warnings.warn(\n",
      "c:\\Users\\andri\\anaconda3\\envs\\matprojenv\\lib\\site-packages\\pymatgen\\entries\\compatibility.py:1039: UserWarning: Failed to guess oxidation states for Entry mp-714896-GGA+U (Cr3O). Assigning anion correction to only the most electronegative atom.\n",
      "  warnings.warn(\n",
      "c:\\Users\\andri\\anaconda3\\envs\\matprojenv\\lib\\site-packages\\pymatgen\\entries\\compatibility.py:1039: UserWarning: Failed to guess oxidation states for Entry mp-20609-GGA+U (Cr3O). Assigning anion correction to only the most electronegative atom.\n",
      "  warnings.warn(\n",
      "c:\\Users\\andri\\anaconda3\\envs\\matprojenv\\lib\\site-packages\\pymatgen\\entries\\compatibility.py:1039: UserWarning: Failed to guess oxidation states for Entry mp-780521-GGA+U (Cr19O48). Assigning anion correction to only the most electronegative atom.\n",
      "  warnings.warn(\n",
      "c:\\Users\\andri\\anaconda3\\envs\\matprojenv\\lib\\site-packages\\pymatgen\\entries\\compatibility.py:1039: UserWarning: Failed to guess oxidation states for Entry mp-1198417-GGA+U (Cr4O15). Assigning anion correction to only the most electronegative atom.\n",
      "  warnings.warn(\n",
      "c:\\Users\\andri\\anaconda3\\envs\\matprojenv\\lib\\site-packages\\pymatgen\\entries\\compatibility.py:1039: UserWarning: Failed to guess oxidation states for Entry mp-850874-GGA+U (Cr19O48). Assigning anion correction to only the most electronegative atom.\n",
      "  warnings.warn(\n",
      "c:\\Users\\andri\\anaconda3\\envs\\matprojenv\\lib\\site-packages\\pymatgen\\entries\\mixing_scheme.py:504: UserWarning: R2SCAN entries do not form a complete PhaseDiagram.\n",
      "  warnings.warn(f\"{self.run_type_2} entries do not form a complete PhaseDiagram.\")\n",
      "c:\\Users\\andri\\anaconda3\\envs\\matprojenv\\lib\\site-packages\\pymatgen\\entries\\mixing_scheme.py:213: UserWarning: WARNING! Discarding GGA entry mp-1023923-GGA for O6 because it was not found in the mixing state data. This can occur when there are duplicate structures. In such cases, only the lowest energy entry with that structure appears in the mixing state data.\n",
      "  warnings.warn(str(exc))\n",
      "c:\\Users\\andri\\anaconda3\\envs\\matprojenv\\lib\\site-packages\\pymatgen\\entries\\mixing_scheme.py:213: UserWarning: WARNING! Discarding GGA entry mp-611836-GGA for O2 because it was not found in the mixing state data. This can occur when there are duplicate structures. In such cases, only the lowest energy entry with that structure appears in the mixing state data.\n",
      "  warnings.warn(str(exc))\n",
      "c:\\Users\\andri\\anaconda3\\envs\\matprojenv\\lib\\site-packages\\pymatgen\\entries\\mixing_scheme.py:213: UserWarning: WARNING! Discarding GGA entry mp-1065697-GGA for O1 because it was not found in the mixing state data. This can occur when there are duplicate structures. In such cases, only the lowest energy entry with that structure appears in the mixing state data.\n",
      "  warnings.warn(str(exc))\n",
      "c:\\Users\\andri\\anaconda3\\envs\\matprojenv\\lib\\site-packages\\pymatgen\\entries\\mixing_scheme.py:213: UserWarning: WARNING! Discarding GGA+U entry mp-715566-GGA+U for Cr2 O6 because it was not found in the mixing state data. This can occur when there are duplicate structures. In such cases, only the lowest energy entry with that structure appears in the mixing state data.\n",
      "  warnings.warn(str(exc))\n",
      "c:\\Users\\andri\\anaconda3\\envs\\matprojenv\\lib\\site-packages\\pymatgen\\entries\\mixing_scheme.py:213: UserWarning: WARNING! Discarding GGA entry mp-1102442-GGA for O12 because it was not found in the mixing state data. This can occur when there are duplicate structures. In such cases, only the lowest energy entry with that structure appears in the mixing state data.\n",
      "  warnings.warn(str(exc))\n",
      "c:\\Users\\andri\\anaconda3\\envs\\matprojenv\\lib\\site-packages\\pymatgen\\entries\\mixing_scheme.py:213: UserWarning: WARNING! Discarding GGA entry mp-1180050-GGA for O8 because it was not found in the mixing state data. This can occur when there are duplicate structures. In such cases, only the lowest energy entry with that structure appears in the mixing state data.\n",
      "  warnings.warn(str(exc))\n"
     ]
    },
    {
     "data": {
      "text/plain": [
       "Cr-O phase diagram\n",
       "5 stable phases: \n",
       "O2, CrO2, Cr2O3, Cr5O12, Cr"
      ]
     },
     "execution_count": 33,
     "metadata": {},
     "output_type": "execute_result"
    }
   ],
   "source": [
    "get_dft_convexhull(['Cr','O'])"
   ]
  },
  {
   "cell_type": "code",
   "execution_count": null,
   "metadata": {},
   "outputs": [
    {
     "ename": "NameError",
     "evalue": "name 'dm' is not defined",
     "output_type": "error",
     "traceback": [
      "\u001b[1;31m---------------------------------------------------------------------------\u001b[0m",
      "\u001b[1;31mNameError\u001b[0m                                 Traceback (most recent call last)",
      "Cell \u001b[1;32mIn[28], line 4\u001b[0m\n\u001b[0;32m      1\u001b[0m components\u001b[38;5;241m=\u001b[39m[\u001b[38;5;124m\"\u001b[39m\u001b[38;5;124mFe\u001b[39m\u001b[38;5;124m\"\u001b[39m,\u001b[38;5;124m\"\u001b[39m\u001b[38;5;124mO\u001b[39m\u001b[38;5;124m\"\u001b[39m]\n\u001b[0;32m      2\u001b[0m dft_type \u001b[38;5;241m=\u001b[39m \u001b[38;5;124m\"\u001b[39m\u001b[38;5;124mGGA/GGA+U\u001b[39m\u001b[38;5;124m\"\u001b[39m\n\u001b[1;32m----> 4\u001b[0m ch \u001b[38;5;241m=\u001b[39m \u001b[43mdm\u001b[49m\u001b[38;5;241m.\u001b[39mget_dft_convexhull(components)\n\u001b[0;32m      5\u001b[0m phases \u001b[38;5;241m=\u001b[39m []\n\u001b[0;32m      7\u001b[0m \u001b[38;5;66;03m# initialize phases from DFT entries on the hull\u001b[39;00m\n",
      "\u001b[1;31mNameError\u001b[0m: name 'dm' is not defined"
     ]
    }
   ],
   "source": [
    "components=[\"Fe\",\"O\"]\n",
    "dft_type = \"GGA/GGA+U\"\n",
    "\n",
    "ch = dm.get_dft_convexhull(components)\n",
    "phases = []\n",
    "\n",
    "# initialize phases from DFT entries on the hull\n",
    "for entry in ch.stable_entries:\n",
    "    try:\n",
    "        composition = entry.composition.fractional_composition.as_dict()[components[1]]\n",
    "    except KeyError:\n",
    "        composition = 0\n",
    "\n",
    "    # convert eV/atom to J/mol (96,485 J/mol per 1 eV/atom)\n",
    "    phase = {'name': entry.name, 'comp': composition, 'points': [],\n",
    "             'energy': 96485 * ch.get_form_energy_per_atom(entry)}\n",
    "    phases.append(phase)"
   ]
  },
  {
   "cell_type": "code",
   "execution_count": null,
   "metadata": {},
   "outputs": [],
   "source": []
  }
 ],
 "metadata": {
  "kernelspec": {
   "display_name": "matprojenv",
   "language": "python",
   "name": "python3"
  },
  "language_info": {
   "codemirror_mode": {
    "name": "ipython",
    "version": 3
   },
   "file_extension": ".py",
   "mimetype": "text/x-python",
   "name": "python",
   "nbconvert_exporter": "python",
   "pygments_lexer": "ipython3",
   "version": "3.9.18"
  }
 },
 "nbformat": 4,
 "nbformat_minor": 2
}
