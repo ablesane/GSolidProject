{
 "cells": [
  {
   "cell_type": "markdown",
   "metadata": {},
   "source": [
    "## 06/08/2024\n",
    "## Andria Lesane\n",
    "## Sun Research Group – Weekly Report (5/26 - 6/08)\n",
    "\n",
    "Summary: Notebook includes functions developed to extract phase diagram data from MPDS. Preliminary code for reproducing phase diagrams using matplotlib."
   ]
  },
  {
   "cell_type": "code",
   "execution_count": null,
   "metadata": {},
   "outputs": [],
   "source": [
    "#library package used to convert svgpath contained in MPDS JSON files\n",
    "import sys\n",
    "!{sys.executable} -m pip install svgpath2mpl"
   ]
  },
  {
   "cell_type": "code",
   "execution_count": 71,
   "metadata": {},
   "outputs": [
    {
     "name": "stderr",
     "output_type": "stream",
     "text": [
      "c:\\Users\\andri\\anaconda3\\envs\\matprojenv\\lib\\site-packages\\tqdm\\auto.py:21: TqdmWarning: IProgress not found. Please update jupyter and ipywidgets. See https://ipywidgets.readthedocs.io/en/stable/user_install.html\n",
      "  from .autonotebook import tqdm as notebook_tqdm\n"
     ]
    }
   ],
   "source": [
    "#MPDS API\n",
    "from mpds_client import MPDSDataRetrieval, MPDSDataTypes, APIError\n",
    "from mp_api.client import MPRester as New_MPRester\n",
    "from urllib.parse import urlencode\n",
    "import httplib2\n",
    "import json\n",
    "\n",
    "#Data Visualization\n",
    "%matplotlib inline\n",
    "import matplotlib as mpl\n",
    "import matplotlib.pyplot as plt\n",
    "from matplotlib.path import Path\n",
    "import matplotlib.patches as patches\n",
    "\n",
    "#Data Conversion\n",
    "from IPython.display import HTML, SVG\n",
    "import numpy as np\n",
    "from svgpath2mpl import parse_path\n",
    "\n",
    "\n"
   ]
  },
  {
   "cell_type": "code",
   "execution_count": null,
   "metadata": {},
   "outputs": [],
   "source": [
    "MPDS_api_key = \"hznJUbncUkM6Wt3KkxNdaQIqcGyh62Nzj4leECvWKhxcNRW6\""
   ]
  },
  {
   "cell_type": "markdown",
   "metadata": {},
   "source": [
    "Below is the function used to query all available phase diagram data that contains the list of specified chemical components. Further development of function will include methods to extract the best binary phase diagram data  with the appropriate solidius boundaries"
   ]
  },
  {
   "cell_type": "code",
   "execution_count": 110,
   "metadata": {},
   "outputs": [],
   "source": [
    "def get_MPDS_data(components):\n",
    "    \"\"\"Retrive MPDS data from cache or API.\n",
    "    Required: List of components. Must provide only two components if querying binary phase diagrams.\"\"\"\n",
    "    client = MPDSDataRetrieval(api_key=MPDS_api_key)\n",
    "    client.dtype = MPDSDataTypes.PEER_REVIEWED\n",
    "    sys = '-'.join(sorted(components))\n",
    "    component_data = {}\n",
    "\n",
    "    print(\"\\nsearching for phase diagram JSON from MPDS...\")\n",
    "    # phase diagram properties\n",
    "    # arity - num elements - 2\n",
    "    # naxes - num axis - 2\n",
    "    # diatype - phase diagram type - \"binary\"\n",
    "    # comp_range - 0-100\n",
    "    # reference - link to entry\n",
    "    # shapes - phase boundary info\n",
    "    # chemical_elements - alphabetized chemcial elements in system\n",
    "    # temp - temp range of diagram\n",
    "\n",
    "    sys_fields = {'C': ['chemical_elements', 'entry', 'comp_range', 'temp', 'labels', 'shapes', 'reference']}\n",
    "    \n",
    "    diagrams = [d for d in client.get_data(\n",
    "                search={'elements': sys, 'classes': 'binary'}, fields=sys_fields)if d]\n",
    "    \n",
    "    valid_JSON=[]\n",
    "    \n",
    "    for d in diagrams:\n",
    "                    dia_json = {}\n",
    "                    for i in range(len(sys_fields['C'])):\n",
    "                        dia_json[sys_fields['C'][i]] = d[i]\n",
    "                        valid_JSON.append(dia_json)\n",
    "\n",
    "    return valid_JSON"
   ]
  },
  {
   "cell_type": "code",
   "execution_count": 116,
   "metadata": {},
   "outputs": [
    {
     "name": "stdout",
     "output_type": "stream",
     "text": [
      "\n",
      "searching for phase diagram JSON from MPDS...\n",
      "\t50% of step 1 from 1 Got 1735 hits\n"
     ]
    }
   ],
   "source": [
    "#Pulling in all available Fe-O system data, obtained via MPDS api\n",
    "comp=['Fe','O']\n",
    "data_list=get_MPDS_data(comp)\n"
   ]
  },
  {
   "cell_type": "markdown",
   "metadata": {},
   "source": [
    "The function below uses the specified material system to extract solidus curves into matplotlib compatible path and an array of the phase diagram plotting points (a.k.a vertices). Accepts phase diagram data in JSON format. Function uses the same error handling developed for the extract_MPDS_liquidus function."
   ]
  },
  {
   "cell_type": "code",
   "execution_count": 137,
   "metadata": {},
   "outputs": [],
   "source": [
    "def extract_MPDS_Solidus(MPDS_json, verbose=True):\n",
    "    if MPDS_json['reference'] is None:\n",
    "        if verbose:\n",
    "            print(\"system JSON does not contain any data!\\n\")\n",
    "        return None\n",
    "\n",
    "    components = MPDS_json['chemical_elements']\n",
    "    if verbose:\n",
    "        print(\"reading MPDS solidus from entry at \" + MPDS_json['reference']['entry'] + \"...\\n\")\n",
    "    \n",
    "    # extract solidus curve svgpath from system JSON\n",
    "    curves = \"\"\n",
    "    for boundary in MPDS_json['shapes']:\n",
    "        if 'label' in boundary and boundary['label'] != 'L':\n",
    "            curves = curves + boundary['svgpath']\n",
    "            continue\n",
    "    if not data:\n",
    "        if verbose:\n",
    "            print(\"no solidus data found in JSON!\")\n",
    "        return None\n",
    "    \n",
    "    path = parse_path(curves)\n",
    "\n",
    "    # convert to coordinates in fractional composition, kelvin\n",
    "    vertices = [[float(i[0]) / 100.0, float(i[1]) + 273.15] for i in path._vertices]\n",
    "    return path, vertices\n"
   ]
  },
  {
   "cell_type": "code",
   "execution_count": 138,
   "metadata": {},
   "outputs": [
    {
     "name": "stdout",
     "output_type": "stream",
     "text": [
      "reading MPDS solidus from entry at https://mpds.io/entry/C100150...\n",
      "\n"
     ]
    }
   ],
   "source": [
    "data=data_list[0]\n",
    "FeOpath, bound_array= extract_MPDS_Solidus(data, verbose=True)"
   ]
  },
  {
   "cell_type": "code",
   "execution_count": 139,
   "metadata": {},
   "outputs": [
    {
     "data": {
      "image/png": "[encoded data removed]",
      "text/plain": [
       "<Figure size 640x480 with 1 Axes>"
      ]
     },
     "metadata": {},
     "output_type": "display_data"
    }
   ],
   "source": [
    "#Using Matplotlib patches to plot Fe-O system diagram\n",
    "\n",
    "fig = plt.figure()\n",
    "ax = fig.add_subplot(111)\n",
    "patch = patches.PathPatch(FeOpath)\n",
    "ax.add_patch(patch)\n",
    "ax.set_ylim(data['temp'][0],data['temp'][1])\n",
    "ax.set_xlim(data['comp_range'][0],data['comp_range'][1])\n",
    "plt.show()"
   ]
  },
  {
   "cell_type": "markdown",
   "metadata": {},
   "source": [
    "To improve data processing function, a few lines of codes will need to be added to filter out duplicate plot lines. In comparison to the PNG version of the phase diagram, MPDS JSON does not include boundary lines for 2-phase solid solution regions."
   ]
  }
 ],
 "metadata": {
  "kernelspec": {
   "display_name": "matprojenv",
   "language": "python",
   "name": "python3"
  },
  "language_info": {
   "codemirror_mode": {
    "name": "ipython",
    "version": 3
   },
   "file_extension": ".py",
   "mimetype": "text/x-python",
   "name": "python",
   "nbconvert_exporter": "python",
   "pygments_lexer": "ipython3",
   "version": "3.9.18"
  }
 },
 "nbformat": 4,
 "nbformat_minor": 2
}
